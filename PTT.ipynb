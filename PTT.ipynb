{
 "cells": [
  {
   "cell_type": "code",
   "execution_count": 1,
   "metadata": {},
   "outputs": [
    {
     "name": "stdout",
     "output_type": "stream",
     "text": [
      "作者rainyday1908 (宜蘭東河馬)看板LoL標題[閒聊] 有什麼英雄故事是有意義擱金齁記的?時間Wed Apr 10 01:56:38 2019\n",
      "如題\n",
      "\n",
      "\n",
      "最近愛上看英雄的背景故事\n",
      "\n",
      "想問\n",
      "\n",
      "哪個英雄的故事最有寓意也最好記阿\n",
      "\n",
      "目前看下來是以前的特朗德\n",
      "\n",
      "把全村的詛咒全拉到自己身上 最後卻因為詛咒被全村討厭\n",
      "\n",
      "\n",
      "\n",
      "大家覺得呢?\n",
      "\n",
      "--\n",
      "※ 發信站: 批踢踢實業坊(ptt.cc), 來自: 220.133.138.248\n",
      "※ 文章網址: https://www.ptt.cc/bbs/LoL/M.1554832602.A.17B.html\n",
      "推 Tiandai     : 剎雅銳空 因為太閃 所以被玩家稱為姦夫淫婦 04/10 02:02\n",
      "推 clippershi  : 阿姨~你兒子在看A片 04/10 02:06\n",
      "推 kelosh22    : NL真的被ban台了嗎？ 這樣不就看不到了 04/10 02:09\n",
      "推 jordan5168  : 高雄路名有意義 04/10 02:13\n",
      "→ Lostinthecho: 不是只有ban三天嗎? 04/10 02:20\n",
      "推 aaronshell  : So fun so fantastic 04/10 03:00\n",
      "推 vickyse     : 我們覺得這很酷 04/10 08:56\n",
      "→ Chillz5566  : 一心二聖三多四維 04/10 11:41\n",
      "\n"
     ]
    }
   ],
   "source": [
    "import requests\n",
    "from bs4 import BeautifulSoup\n",
    "\n",
    "res = requests.get('https://www.ptt.cc/bbs/LoL/M.1554832602.A.17B.html')\n",
    "soup = BeautifulSoup(res.text)\n",
    "print (soup.select('div[id^=main-content]')[0].text)"
   ]
  },
  {
   "cell_type": "code",
   "execution_count": null,
   "metadata": {},
   "outputs": [],
   "source": []
  }
 ],
 "metadata": {
  "kernelspec": {
   "display_name": "Python 3",
   "language": "python",
   "name": "python3"
  },
  "language_info": {
   "codemirror_mode": {
    "name": "ipython",
    "version": 3
   },
   "file_extension": ".py",
   "mimetype": "text/x-python",
   "name": "python",
   "nbconvert_exporter": "python",
   "pygments_lexer": "ipython3",
   "version": "3.7.1"
  }
 },
 "nbformat": 4,
 "nbformat_minor": 2
}
