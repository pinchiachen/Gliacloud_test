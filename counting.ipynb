{
 "cells": [
  {
   "cell_type": "code",
   "execution_count": null,
   "metadata": {},
   "outputs": [],
   "source": [
    "from collections import Counter\n",
    "\n",
    "url = [\n",
    "    \"http://www.google.com/a.txt\",\n",
    "    \"http://www.google.com.tw/a.txt\",\n",
    "    \"http://www.google.com/download/c.jpg\",\n",
    "    \"http://www.google.co.jp/a.txt\",\n",
    "    \"http://www.google.com/b.txt\",\n",
    "    \"https://facebook.com/movie/b.txt\",\n",
    "    \"http://yahoo.com/123/000/c.jpg\",\n",
    "    \"http://gliacloud.com/haha.png\",    \n",
    "]\n",
    "\n",
    "item_list = []\n",
    "\n",
    "for item in url:\n",
    "    item_list.append(item.split(\"/\")[-1])\n",
    "\n",
    "item_counts = Counter(item_list)\n",
    "\n",
    "\n",
    "top_three = item_counts.most_common(3)\n",
    "print(top_three)"
   ]
  }
 ],
 "metadata": {
  "kernelspec": {
   "display_name": "Python 3",
   "language": "python",
   "name": "python3"
  },
  "language_info": {
   "codemirror_mode": {
    "name": "ipython",
    "version": 3
   },
   "file_extension": ".py",
   "mimetype": "text/x-python",
   "name": "python",
   "nbconvert_exporter": "python",
   "pygments_lexer": "ipython3",
   "version": "3.7.1"
  }
 },
 "nbformat": 4,
 "nbformat_minor": 2
}
